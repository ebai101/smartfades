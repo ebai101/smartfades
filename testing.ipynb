{
 "cells": [
  {
   "cell_type": "code",
   "execution_count": null,
   "metadata": {},
   "outputs": [],
   "source": [
    "import numpy as np\n",
    "import pywt\n",
    "import librosa\n",
    "import matplotlib.pyplot as plt\n",
    "from IPython.display import Audio"
   ]
  },
  {
   "cell_type": "code",
   "execution_count": null,
   "metadata": {},
   "outputs": [],
   "source": [
    "def fade(buf, fade_dir, fade_type):\n",
    "    if fade_dir not in [\"in\", \"out\"]:\n",
    "        raise ValueError('fade_dir must be \"in\" or \"out\"')\n",
    "\n",
    "    match fade_type:\n",
    "        case \"linear\":\n",
    "            fade = np.linspace(0, 1, len(buf))\n",
    "        case \"cosine\":\n",
    "            fade = 0.5 * np.cos(np.pi * np.linspace(1, 0, len(buf))) + 0.5\n",
    "        case _:\n",
    "            raise ValueError(\"unsupported fade_type\")\n",
    "            sys.exit(1)\n",
    "\n",
    "    if fade_dir == \"out\":\n",
    "        return buf * fade[::-1]\n",
    "    return buf * fade"
   ]
  },
  {
   "cell_type": "code",
   "execution_count": null,
   "metadata": {},
   "outputs": [],
   "source": [
    "audio_data, audio_sr = librosa.load('/Users/ethan/Downloads/Raw Session Files/spencer zahn synth pack/Bass_120_1.wav', sr=44100)\n",
    "audio_data = librosa.util.normalize(audio_data)\n",
    "\n",
    "test_buf_len = 512\n",
    "test_buf_c = int(test_buf_len / 2)\n",
    "\n",
    "# vary this value by powers of 2 to see how the DWT graph changes\n",
    "fl = 64\n",
    "\n",
    "test_buf = np.concatenate((audio_data[-test_buf_c:], audio_data[:test_buf_c])) # creat test buffer from last C samples + first C samples of input\n",
    "test_buf[test_buf_c-fl:test_buf_c] = fade(test_buf[test_buf_c-fl:test_buf_c], 'out', 'cosine') # apply fade out\n",
    "test_buf[test_buf_c:test_buf_c+fl] = fade(test_buf[test_buf_c:test_buf_c+fl], 'in', 'cosine') # apply fade in\n",
    "\n",
    "cA, cD2, cD1 = pywt.wavedec(test_buf, 'db1', level=2) # wavelet decomposition\n",
    "cD2 = cD2[int(len(cD2)*3/8):int(len(cD2)*5/8)] # using level 2, but we only need the center\n",
    "cD2 *= librosa.filters.get_window('parzen', len(cD2)) # window to avoid false positives on the edges\n",
    "\n",
    "# write back to the audio file\n",
    "audio_data[-test_buf_c:] = test_buf[:test_buf_c]\n",
    "audio_data[:test_buf_c] = test_buf[test_buf_c:]\n",
    "\n",
    "fig, (ax1, ax2) = plt.subplots(ncols=2, figsize=(15,5))\n",
    "librosa.display.waveshow(test_buf, sr=audio_sr, ax=ax1)\n",
    "ax2.plot(cD2)\n",
    "ax2.set_ylim(-0.1,0.1)\n",
    "ax2.axhline(y=0.02, color='grey')\n",
    "ax2.axhline(y=-0.02, color='grey')\n",
    "\n",
    "ax1.set(title='test_buf (fades)')\n",
    "ax2.set(title='DWT')\n",
    "print(f\"fl {fl} has max {np.max(np.abs(cD2))}\")\n",
    "Audio(np.concatenate((audio_data, audio_data)), rate=audio_sr)"
   ]
  }
 ],
 "metadata": {
  "kernelspec": {
   "display_name": "base",
   "language": "python",
   "name": "python3"
  },
  "language_info": {
   "codemirror_mode": {
    "name": "ipython",
    "version": 3
   },
   "file_extension": ".py",
   "mimetype": "text/x-python",
   "name": "python",
   "nbconvert_exporter": "python",
   "pygments_lexer": "ipython3",
   "version": "3.10.9"
  },
  "orig_nbformat": 4
 },
 "nbformat": 4,
 "nbformat_minor": 2
}
